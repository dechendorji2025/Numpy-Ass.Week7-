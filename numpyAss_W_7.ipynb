{
  "nbformat": 4,
  "nbformat_minor": 0,
  "metadata": {
    "colab": {
      "provenance": [],
      "authorship_tag": "ABX9TyMrsJLqGdYvyrIT8fXiKFli",
      "include_colab_link": true
    },
    "kernelspec": {
      "name": "python3",
      "display_name": "Python 3"
    },
    "language_info": {
      "name": "python"
    }
  },
  "cells": [
    {
      "cell_type": "markdown",
      "metadata": {
        "id": "view-in-github",
        "colab_type": "text"
      },
      "source": [
        "<a href=\"https://colab.research.google.com/github/Omdena-Bhutan/starter-assignment-dechendorji2025/blob/main/numpyAss_W_7.ipynb\" target=\"_parent\"><img src=\"https://colab.research.google.com/assets/colab-badge.svg\" alt=\"Open In Colab\"/></a>"
      ]
    },
    {
      "cell_type": "code",
      "source": [],
      "metadata": {
        "id": "BNztYfWYkxVY"
      },
      "execution_count": null,
      "outputs": []
    },
    {
      "cell_type": "code",
      "execution_count": 89,
      "metadata": {
        "colab": {
          "base_uri": "https://localhost:8080/"
        },
        "id": "jGHu57v27m2w",
        "outputId": "f314175d-7edb-4d27-ff6a-8faaa50ed92b"
      },
      "outputs": [
        {
          "output_type": "stream",
          "name": "stdout",
          "text": [
            "[2 4]\n",
            "[1 2 3 4 5]\n",
            "[5 6 7]\n"
          ]
        }
      ],
      "source": [
        "\n",
        "import numpy as np\n",
        "a = np.array([0,1,2,3,4])\n",
        "a\n",
        "# change the array number\n",
        "a [0] = 200\n",
        "a\n",
        "\n",
        "# slicing the numpy array # index is always n-1\n",
        "d = a[1:4]\n",
        "d\n",
        "# slice the array\n",
        "a[1:3] = 300, 400\n",
        "a\n",
        "# changing second element to value 20\n",
        "a[1] = 20\n",
        "a\n",
        "#steps slicing\n",
        "arr = np.array ([1,2,3,4,5,6,7])\n",
        "print(arr[1:5:2])\n",
        "#use : before or : after\n",
        "print(arr[:5])\n",
        "print(arr[4: ])\n",
        "#assigning value with list\n",
        "select = [0,2,3,4]\n",
        "select\n",
        "# using list as argument in the brackets\n",
        "d = a[select]\n",
        "d\n",
        "# assigning specific element to a new value like 4 to 10000\n",
        "a[select] = 10000\n",
        "a\n",
        "#other attributes\n",
        "b = np.array ([1,2,3,4,5,6])\n",
        "b\n",
        "# get the size of numpy array\n",
        "a.size\n",
        "# how to know the dimensions of the numpy array\n",
        "a.ndim\n",
        "#find the size, dimension and shape of the given array b\n",
        "b = np.array([10,20,30,40,50,60,70])\n",
        "b.shape\n",
        "b.ndim\n",
        "b.size\n",
        "#numpy statistical functions\n",
        "c = np.array([-10,201,43,94,502])\n",
        "max_c = c.max()\n",
        "max_c\n",
        "min_c = c.min()\n",
        "min_c\n",
        "sum =(max_c + min_c)\n",
        "sum\n",
        "# performing addition operation on the given numpy arrays\n",
        "arr1 = np.array([10,11,12,13,14,15])\n",
        "arr2 = np.array([20,21,22,23,24,25])\n",
        "sum = arr1+arr2\n",
        "sum\n",
        "# performing substraction using two arrays\n",
        "arr1 = np.array([10, 20, 30, 40, 50, 60])\n",
        "arr2 = np.array([20, 21, 22, 23, 24, 25])\n",
        "c = np.subtract(arr1, arr2)\n",
        "c\n",
        "# array multiply\n",
        "arr1 = np.array([10, 20, 30, 40, 50, 60])\n",
        "arr2 = np.array([2, 1, 2, 3,4, 5])\n",
        "d = np.multiply(arr1, arr2)\n",
        "d\n",
        "#array division operatio\n",
        "arr1 = np.array([10, 20, 30, 40, 50, 60])\n",
        "arr2 = np.array([3, 5, 10, 8, 2, 33])\n",
        "e = np.divide(arr1, arr2)\n",
        "e\n",
        "# dot operation of arrays\n",
        "arr1 = np.array([3, 5])\n",
        "arr2 = np.array([2, 4])\n",
        "f = np.dot (arr1, arr2)\n",
        "f\n",
        "#adding constant 1 to each element in the array\n",
        "arr = np.array([1, 2, 3,-1])\n",
        "arr = arr + 1\n",
        "arr\n",
        "# adding constant 5 to each element\n",
        "arr = arr + 5\n",
        "\n",
        "# Numpy linespace\n",
        "g = np.linspace(5, 4, num = 6)\n",
        "g\n",
        "# Quiz on 1 D numpy array\n",
        "h = np.array([0, 1])\n",
        "i = np.array([0, 1])\n",
        "h - i\n",
        "# numpy mulitiply\n",
        "j =np.array([1, 2, 3, 4, 5])\n",
        "k =np.array([1, 0, 1, 0, 1])\n",
        "l = j * k\n",
        "\n",
        "# multiply the numpy array with z with -2\n",
        "z = np. array([2, 4])\n",
        "y = -2*z\n",
        "y\n",
        "# how to use plotvec\n",
        "# imoprt the libraries\n",
        "import time\n",
        "import sys\n",
        "import numpy as np\n",
        "import matplotlib.pyplot as plt\n",
        "def plotvec2(a,b):\n",
        "    ax = plt.axes()\n",
        "    ax.arrow(0, 0, *a, head_width = 0.05, color = 'r', head_length = 0.1)\n",
        "    plt.text(*(a+0.1),'a')\n",
        "    ax.arrow(0, 0 *b, head_with=0.05, color ='b', head_length=0.1)\n",
        "    plt.text (*(b + 0.1, 'b'))\n",
        "    plt.ylim(-2, 2)\n",
        "    plt.xlim(-2, 2)\n",
        "    a = np.array([-1, 1])\n",
        "    b = np.array([-1, 1])\n",
        "    plotvec2(a, b)\n",
        "    print(\"The dot product is\", np.dot(a, b))\n",
        "    a = np.array([1, 0])\n",
        "    b = np. array([0, 1])\n",
        "    plotvec2(a, b)\n",
        "    print ('The DOT PRODUCT IS',np.dot(a, b))\n",
        "\n",
        "\n"
      ]
    },
    {
      "cell_type": "code",
      "execution_count": null,
      "metadata": {
        "colab": {
          "base_uri": "https://localhost:8080/"
        },
        "outputId": "f314175d-7edb-4d27-ff6a-8faaa50ed92b",
        "id": "h0oYGoNAmp_O"
      },
      "outputs": [
        {
          "output_type": "stream",
          "name": "stdout",
          "text": [
            "[2 4]\n",
            "[1 2 3 4 5]\n",
            "[5 6 7]\n"
          ]
        }
      ],
      "source": [
        "\n",
        "import numpy as np\n",
        "a = np.array([0,1,2,3,4])\n",
        "a\n",
        "# change the array number\n",
        "a [0] = 200\n",
        "a\n",
        "\n",
        "# slicing the numpy array # index is always n-1\n",
        "d = a[1:4]\n",
        "d\n",
        "# slice the array\n",
        "a[1:3] = 300, 400\n",
        "a\n",
        "# changing second element to value 20\n",
        "a[1] = 20\n",
        "a\n",
        "#steps slicing\n",
        "arr = np.array ([1,2,3,4,5,6,7])\n",
        "print(arr[1:5:2])\n",
        "#use : before or : after\n",
        "print(arr[:5])\n",
        "print(arr[4: ])\n",
        "#assigning value with list\n",
        "select = [0,2,3,4]\n",
        "select\n",
        "# using list as argument in the brackets\n",
        "d = a[select]\n",
        "d\n",
        "# assigning specific element to a new value like 4 to 10000\n",
        "a[select] = 10000\n",
        "a\n",
        "#other attributes\n",
        "b = np.array ([1,2,3,4,5,6])\n",
        "b\n",
        "# get the size of numpy array\n",
        "a.size\n",
        "# how to know the dimensions of the numpy array\n",
        "a.ndim\n",
        "#find the size, dimension and shape of the given array b\n",
        "b = np.array([10,20,30,40,50,60,70])\n",
        "b.shape\n",
        "b.ndim\n",
        "b.size\n",
        "#numpy statistical functions\n",
        "c = np.array([-10,201,43,94,502])\n",
        "max_c = c.max()\n",
        "max_c\n",
        "min_c = c.min()\n",
        "min_c\n",
        "sum =(max_c + min_c)\n",
        "sum\n",
        "# performing addition operation on the given numpy arrays\n",
        "arr1 = np.array([10,11,12,13,14,15])\n",
        "arr2 = np.array([20,21,22,23,24,25])\n",
        "sum = arr1+arr2\n",
        "sum\n",
        "# performing substraction using two arrays\n",
        "arr1 = np.array([10, 20, 30, 40, 50, 60])\n",
        "arr2 = np.array([20, 21, 22, 23, 24, 25])\n",
        "c = np.subtract(arr1, arr2)\n",
        "c\n",
        "# array multiply\n",
        "arr1 = np.array([10, 20, 30, 40, 50, 60])\n",
        "arr2 = np.array([2, 1, 2, 3,4, 5])\n",
        "d = np.multiply(arr1, arr2)\n",
        "d\n",
        "#array division operatio\n",
        "arr1 = np.array([10, 20, 30, 40, 50, 60])\n",
        "arr2 = np.array([3, 5, 10, 8, 2, 33])\n",
        "e = np.divide(arr1, arr2)\n",
        "e\n",
        "# dot operation of arrays\n",
        "arr1 = np.array([3, 5])\n",
        "arr2 = np.array([2, 4])\n",
        "f = np.dot (arr1, arr2)\n",
        "f\n",
        "#adding constant 1 to each element in the array\n",
        "arr = np.array([1, 2, 3,-1])\n",
        "arr = arr + 1\n",
        "arr\n",
        "# adding constant 5 to each element\n",
        "arr = arr + 5\n",
        "\n",
        "# Numpy linespace\n",
        "g = np.linspace(5, 4, num = 6)\n",
        "g\n",
        "# Quiz on 1 D numpy array\n",
        "h = np.array([0, 1])\n",
        "i = np.array([0, 1])\n",
        "h - i\n",
        "# numpy mulitiply\n",
        "j =np.array([1, 2, 3, 4, 5])\n",
        "k =np.array([1, 0, 1, 0, 1])\n",
        "l = j * k\n",
        "\n",
        "# multiply the numpy array with z with -2\n",
        "z = np. array([2, 4])\n",
        "y = -2*z\n",
        "y\n",
        "# how to use plotvec\n",
        "# imoprt the libraries\n",
        "import time\n",
        "import sys\n",
        "import numpy as np\n",
        "import matplotlib.pyplot as plt\n",
        "def plotvec2(a,b):\n",
        "    ax = plt.axes()\n",
        "    ax.arrow(0, 0, *a, head_width = 0.05, color = 'r', head_length = 0.1)\n",
        "    plt.text(*(a+0.1),'a')\n",
        "    ax.arrow(0, 0 *b, head_with=0.05, color ='b', head_length=0.1)\n",
        "    plt.text (*(b + 0.1, 'b'))\n",
        "    plt.ylim(-2, 2)\n",
        "    plt.xlim(-2, 2)\n",
        "    a = np.array([-1, 1])\n",
        "    b = np.array([-1, 1])\n",
        "    plotvec2(a, b)\n",
        "    print(\"The dot product is\", np.dot(a, b))\n",
        "    a = np.array([1, 0])\n",
        "    b = np. array([0, 1])\n",
        "    plotvec2(a, b)\n",
        "    print ('The DOT PRODUCT IS',np.dot(a, b))\n",
        "\n",
        "\n"
      ]
    },
    {
      "cell_type": "code",
      "source": [
        "\n"
      ],
      "metadata": {
        "id": "9nAiBwyQk7qp"
      },
      "execution_count": 99,
      "outputs": []
    },
    {
      "cell_type": "code",
      "execution_count": 105,
      "metadata": {
        "id": "yLEfuyEmmrLz"
      },
      "outputs": [],
      "source": [
        "\n",
        "# how to use plotvec\n",
        "# imoprt the libraries\n",
        "import time\n",
        "import sys\n",
        "import numpy as np\n",
        "import matplotlib.pyplot as plt\n",
        "def plotvec2(a,b):\n",
        "    ax = plt.axes()\n",
        "    ax.arrow(0, 0, *a, head_width = 0.05, color = 'r', head_length = 0.1)\n",
        "    plt.text(*(a+0.1),'a')\n",
        "    ax.arrow(0, 0 *b, head_with=0.05, color ='b', head_length=0.1)\n",
        "    plt.text (*(b + 0.1, 'b'))\n",
        "    plt.ylim(-2, 2)\n",
        "    plt.xlim(-2, 2)\n",
        "    a = np.array([-1, 1])\n",
        "    b = np.array([-1, 1])\n",
        "    plotvec2(a, b)\n",
        "    print(\"The dot product is\", np.dot(a, b))\n",
        "    a = np.array([1, 0])\n",
        "    b = np. array([0, 1])\n",
        "    plotvec2(a, b)\n",
        "    print ('The DOT PRODUCT IS',np.dot(a, b))\n",
        "\n",
        "\n"
      ]
    },
    {
      "cell_type": "code",
      "source": [
        "#multi operation of arrays\n",
        "arr1 = np.array([1, 2, 3])\n",
        "arr2 = np.array([8, 9, 10])\n",
        "add = np.add(arr1, arr2)\n",
        "add\n",
        "arr3 = np.subtract(arr1, arr2)\n",
        "arr3\n",
        "arr4 = np.multiply(arr1, arr2)\n",
        "arr4\n",
        "arr5 = np.divide(arr1, arr2)\n",
        "arr5\n",
        "arr6 = np.dot(arr1, arr2)\n",
        "arr6\n"
      ],
      "metadata": {
        "colab": {
          "base_uri": "https://localhost:8080/"
        },
        "id": "uxVDXDY6mYBN",
        "outputId": "5ef289d8-65c2-4859-cb4a-44d4b64bff15"
      },
      "execution_count": 109,
      "outputs": [
        {
          "output_type": "execute_result",
          "data": {
            "text/plain": [
              "np.int64(56)"
            ]
          },
          "metadata": {},
          "execution_count": 109
        }
      ]
    },
    {
      "cell_type": "code",
      "source": [
        "# how to sort even and odd number from array\n",
        "arr1 = np.array([1, 2, 3, 4, 5])\n",
        "arr2 = np.array([6, 7, 8, 9, 10])\n",
        "even_arr1 = arr1[1:5:2]\n",
        "even_arr1\n",
        "odd_arr1 = arr1[0:5:2]\n",
        "odd_arr1\n",
        "even_arr2 = arr2[0:5:2]\n",
        "even_arr2\n",
        "odd_arr2 =arr2[1:5:2]\n",
        "odd_arr2\n",
        "print(\" Congratulations, you have completed your first lesspn and hands_on lan in Python\")"
      ],
      "metadata": {
        "colab": {
          "base_uri": "https://localhost:8080/"
        },
        "id": "IuNh_XI5mVME",
        "outputId": "a5e3af44-3a2e-46eb-a444-9e64fcc356bd"
      },
      "execution_count": 117,
      "outputs": [
        {
          "output_type": "stream",
          "name": "stdout",
          "text": [
            " Congratulations, you have completed your first lesspn and hands_on lan in Python\n"
          ]
        }
      ]
    }
  ]
}